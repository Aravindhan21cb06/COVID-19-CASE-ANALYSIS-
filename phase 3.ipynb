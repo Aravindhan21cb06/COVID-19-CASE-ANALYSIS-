{
  "nbformat": 4,
  "nbformat_minor": 0,
  "metadata": {
    "colab": {
      "provenance": []
    },
    "kernelspec": {
      "name": "python3",
      "display_name": "Python 3"
    },
    "language_info": {
      "name": "python"
    }
  },
  "cells": [
    {
      "cell_type": "code",
      "execution_count": null,
      "metadata": {
        "colab": {
          "base_uri": "https://localhost:8080/"
        },
        "id": "vehwBpkl7-je",
        "outputId": "98a74e75-bbf1-4762-fd53-e2905ba08e7c"
      },
      "outputs": [
        {
          "output_type": "stream",
          "name": "stdout",
          "text": [
            "      dateRep  day  month  year  cases  deaths countriesAndTerritories\n",
            "0  31-05-2021   31      5  2021    366       5                 Austria\n",
            "1  30-05-2021   30      5  2021    570       6                 Austria\n",
            "2  29-05-2021   29      5  2021    538      11                 Austria\n",
            "3  28-05-2021   28      5  2021    639       4                 Austria\n",
            "4  27-05-2021   27      5  2021    405      19                 Austria\n",
            "dateRep                    0\n",
            "day                        0\n",
            "month                      0\n",
            "year                       0\n",
            "cases                      0\n",
            "deaths                     0\n",
            "countriesAndTerritories    0\n",
            "dtype: int64\n"
          ]
        },
        {
          "output_type": "stream",
          "name": "stderr",
          "text": [
            "<ipython-input-1-90513f009a99>:18: UserWarning: Parsing dates in DD/MM/YYYY format when dayfirst=False (the default) was specified. This may lead to inconsistently parsed dates! Specify a format to ensure consistent parsing.\n",
            "  data['dateRep'] = pd.to_datetime(data['dateRep'])\n"
          ]
        },
        {
          "output_type": "stream",
          "name": "stdout",
          "text": [
            "0.9777777777777777\n"
          ]
        }
      ],
      "source": [
        "import pandas as pd\n",
        "\n",
        "# Load the COVID-19 dataset\n",
        "data = pd.read_csv(\"Covid_19_cases4.csv\")\n",
        "\n",
        "# Display the first few rows to understand the data structure\n",
        "print(data.head())\n",
        "\n",
        "# Check for missing values\n",
        "print(data.isnull().sum())\n",
        "\n",
        "# Data Cleaning\n",
        "# Remove rows with missing values, if any\n",
        "data.dropna(inplace=True)\n",
        "\n",
        "# Data Transformation\n",
        "# Convert date column to a datetime object\n",
        "data['dateRep'] = pd.to_datetime(data['dateRep'])\n",
        "\n",
        "# Aggregate data if needed (e.g., daily, weekly)\n",
        "# For example, to get daily new cases and deaths\n",
        "data['cases'] = data.groupby('countriesAndTerritories')['cases'].diff().fillna(0)\n",
        "data['deaths'] = data.groupby('countriesAndTerritories')['deaths'].diff().fillna(0)\n",
        "\n",
        "# Data Quality Assurance\n",
        "# Validate data accuracy and consistency as necessary\n",
        "\n",
        "# Save the cleaned dataset to a new file\n",
        "data.to_csv(\"covid19_cleaned_data.csv\", index=False)\n",
        "import numpy as np\n",
        "from sklearn.model_selection import train_test_split\n",
        "from sklearn.svm import SVC\n",
        "from sklearn.datasets import load_iris\n",
        "\n",
        "# Loading the dataset\n",
        "X, Y = load_iris(return_X_y = True)\n",
        "\n",
        "# Splitting the dataset in training and test data\n",
        "X_train, X_test, Y_train, Y_test = train_test_split(X, Y, test_size = 0.3, random_state = 0)\n",
        "\n",
        "# Training the model using the Support Vector Classification class of sklearn\n",
        "svc = SVC()\n",
        "svc.fit(X_train, Y_train)\n",
        "\n",
        "# Computing the accuracy score of the model\n",
        "def compute_accuracy(Y_true, Y_pred):\n",
        "    correctly_predicted = 0\n",
        "    # iterating over every label and checking it with the true sample\n",
        "    for true_label, predicted in zip(Y_true, Y_pred):\n",
        "        if true_label == predicted:\n",
        "            correctly_predicted += 1\n",
        "    # computing the accuracy score\n",
        "    accuracy_score = correctly_predicted / len(Y_true)\n",
        "    return accuracy_score\n",
        "Y_pred = svc.predict(X_test)\n",
        "score = compute_accuracy(Y_test, Y_pred)\n",
        "print(score)"
      ]
    }
  ]
}